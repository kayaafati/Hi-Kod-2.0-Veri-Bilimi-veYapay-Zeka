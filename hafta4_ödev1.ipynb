{
  "nbformat": 4,
  "nbformat_minor": 0,
  "metadata": {
    "colab": {
      "provenance": [],
      "authorship_tag": "ABX9TyN9py03tiv23dAPeFkMVwiN",
      "include_colab_link": true
    },
    "kernelspec": {
      "name": "python3",
      "display_name": "Python 3"
    },
    "language_info": {
      "name": "python"
    }
  },
  "cells": [
    {
      "cell_type": "markdown",
      "metadata": {
        "id": "view-in-github",
        "colab_type": "text"
      },
      "source": [
        "<a href=\"https://colab.research.google.com/github/kayaafati/Hi-Kod-2.0-Veri-Bilimi-veYapay-Zeka/blob/main/hafta4_%C3%B6dev1.ipynb\" target=\"_parent\"><img src=\"https://colab.research.google.com/assets/colab-badge.svg\" alt=\"Open In Colab\"/></a>"
      ]
    },
    {
      "cell_type": "code",
      "execution_count": 7,
      "metadata": {
        "id": "EvNCdcZo3C6K"
      },
      "outputs": [],
      "source": [
        "#Ödev-1: Değişkenlere atanmış değerlerin veri tipleri arasında dönüşüm yapılır.\n",
        "#Ödev-2: İsimlerden oluşan üç değişkene yaş değerleri atanır. Belirlenen üç değişken birbiriyle karşılaştırma operatörleri ile karşılaştırılır.Bu karşılaştırmalara mantıksal operatörler de eklenir.\n",
        "#Ödev-3: Kullanıcıdan iki değer girmesini istenir. Girilen değerlerin toplama, çıkarma, çarpma, bölme sonuçlarını yazdırılır.\n",
        "#Ödev-4: Kullanıcıdan isim, yaş, şehir ve meslek bilgilerini istenir ve cevaplarını yazdırılır.\n",
        "#Ödev-5: \"Hi-Kod Veri Bilimi Atölyesi\" ifadesini bir değişkene tanımlanır.\n",
        "# İfadedeki her bir kelimeyi (\"Hi-Kod\", \"Veri\", \"Bilimi\", \"Atölyesi\") değişken içinden seçilir.\n",
        "# İfadeyi hepsini büyük harf olacak hale çevrilir. (\"HI-KOD VERİ BİLİMİ ATÖLYESİ\")\n",
        "# İfadeyi hepsini büyük harf olacak hale çevrilir.(\"hi-kod veri bilimi atölyesi\")\n",
        "#\"0123456789\" ifadesindeki yalnızca çift sayıları ve yalnızca tek sayıları seçilir. (\"02468\", \"13579\")"
      ]
    },
    {
      "cell_type": "code",
      "source": [
        "var = 3.15\n",
        "int_var = int(var)\n",
        "#print(type(int_var))\n",
        "#print(type(var))"
      ],
      "metadata": {
        "colab": {
          "base_uri": "https://localhost:8080/"
        },
        "id": "VzgIgxAg3R0r",
        "outputId": "a088694c-fb2f-46e0-ac82-55c17a99abb6"
      },
      "execution_count": 6,
      "outputs": [
        {
          "output_type": "stream",
          "name": "stdout",
          "text": [
            "<class 'int'>\n",
            "<class 'float'>\n"
          ]
        }
      ]
    },
    {
      "cell_type": "code",
      "source": [
        "Ayse = 19\n",
        "Enes = 22\n",
        "Kemal = 25"
      ],
      "metadata": {
        "id": "9RBZNZYo4z_B"
      },
      "execution_count": 9,
      "outputs": []
    },
    {
      "cell_type": "code",
      "source": [
        "if Ayse > Enes:\n",
        "  print(\"ayse enesten buyuk\")\n",
        "elif Enes > Ayse:\n",
        "  print(\"enes ayseden buyuk\")\n",
        "elif Kemal > Enes:\n",
        "  print(\"kemal enesten buyuk\")\n",
        "elif Kemal > Ayse and Kemal > Enes:\n",
        "  print(\"En buyuk kisi Kemaal\")\n",
        "else:\n",
        "  print(\"merhaba\")\n",
        "\n",
        "#ali = 25\n",
        "#ayse = 30\n",
        "#mehmet = 27\n",
        "\n",
        "#karsilastirma_sonucu = (ali > mehmet) and (ayse != ali)\n",
        "\n",
        "#print(f\"Ali'nin yaşı Mehmet'ten büyük, Ayşe Ali'ye eşit değil mi?\")\n"
      ],
      "metadata": {
        "colab": {
          "base_uri": "https://localhost:8080/"
        },
        "id": "dlmJHzpk5A4k",
        "outputId": "40537c0e-7038-4c54-87d0-56412bff2496"
      },
      "execution_count": 12,
      "outputs": [
        {
          "output_type": "stream",
          "name": "stdout",
          "text": [
            "enes ayseden buyuk\n"
          ]
        }
      ]
    },
    {
      "cell_type": "code",
      "source": [
        "x = input(\"bir sayı girin: \")\n",
        "y = input(\"2.sayiyi girin: \")\n",
        "xi = int(x)\n",
        "yi = int(y)\n",
        "print(\"toplam:\", xi+yi)\n",
        "print(\"fark:\", xi-yi)\n",
        "print(\"çarpım:\", xi*yi)\n",
        "print(\"bölüm:\", xi/yi)"
      ],
      "metadata": {
        "colab": {
          "base_uri": "https://localhost:8080/"
        },
        "id": "px6EQV3h5sCc",
        "outputId": "24f086ac-076e-4532-b3b7-8b19776946ce"
      },
      "execution_count": 29,
      "outputs": [
        {
          "output_type": "stream",
          "name": "stdout",
          "text": [
            "bir sayı girin: 4\n",
            "2.sayiyi girin: 3\n",
            "toplam: 7\n",
            "fark: 1\n",
            "çarpım: 12\n",
            "bölüm: 1.3333333333333333\n"
          ]
        }
      ]
    },
    {
      "cell_type": "code",
      "source": [
        "name = input(\"please enter your name: \")\n",
        "age = input(\"please enter your age: \")\n",
        "city = input(\"Please enter the city you live in: \")\n",
        "job = input(\"please enter your job: \")\n",
        "\n",
        "print(\"your name is\", name)\n",
        "print(\"you are {age} years old\".format(age=age))\n",
        "print(\"you live in \", city)\n",
        "print(\"your job \", job)"
      ],
      "metadata": {
        "colab": {
          "base_uri": "https://localhost:8080/"
        },
        "id": "raPZcGXN65g9",
        "outputId": "239cd8db-d38f-4da0-cf12-26b99758ae64"
      },
      "execution_count": 33,
      "outputs": [
        {
          "output_type": "stream",
          "name": "stdout",
          "text": [
            "please enter your name: Fatime\n",
            "please enter your age: 21\n",
            "Please enter the city you live in: kocaeli\n",
            "please enter your job: student\n",
            "your name is Fatime\n",
            "you are 21 years old\n",
            "you live in  kocaeli\n",
            "you're job  student\n"
          ]
        }
      ]
    },
    {
      "cell_type": "code",
      "source": [
        "string = \"Hi-Kod Veri Bilimi Atölyesi\"\n",
        "words = string.split()\n",
        "\n",
        "for word in words:\n",
        "  print(word)"
      ],
      "metadata": {
        "colab": {
          "base_uri": "https://localhost:8080/"
        },
        "id": "qDx8HQKD9V5V",
        "outputId": "d1a9a410-d6d3-460f-a75a-4aa1f376df2c"
      },
      "execution_count": 35,
      "outputs": [
        {
          "output_type": "stream",
          "name": "stdout",
          "text": [
            "Hi-Kod\n",
            "Veri\n",
            "Bilimi\n",
            "Atölyesi\n"
          ]
        }
      ]
    },
    {
      "cell_type": "code",
      "source": [
        "string = \"Hi-Kod Veri Bilimi Atölyesi\"\n",
        "words = string.upper()\n",
        "print(words)"
      ],
      "metadata": {
        "colab": {
          "base_uri": "https://localhost:8080/"
        },
        "id": "e10vC1xe-TDG",
        "outputId": "4c4b3443-873a-4b6a-a020-92b5058b24fa"
      },
      "execution_count": 38,
      "outputs": [
        {
          "output_type": "stream",
          "name": "stdout",
          "text": [
            "HI-KOD VERI BILIMI ATÖLYESI\n"
          ]
        }
      ]
    },
    {
      "cell_type": "code",
      "source": [
        "string = \"Hi-Kod Veri Bilimi Atölyesi\"\n",
        "words = string.lower()\n",
        "print(words)"
      ],
      "metadata": {
        "colab": {
          "base_uri": "https://localhost:8080/"
        },
        "id": "H_Tljn4kAIZh",
        "outputId": "bce60fec-d5f9-450f-cf35-28bf894e071e"
      },
      "execution_count": 39,
      "outputs": [
        {
          "output_type": "stream",
          "name": "stdout",
          "text": [
            "hi-kod veri bilimi atölyesi\n"
          ]
        }
      ]
    },
    {
      "cell_type": "code",
      "source": [
        "number = \"0123456789\"\n",
        "even_numbers= number[::2]\n",
        "odd_numbers= number[1::2]\n",
        "print(even_numbers, odd_numbers)"
      ],
      "metadata": {
        "colab": {
          "base_uri": "https://localhost:8080/"
        },
        "id": "WrWXhCj-AgBd",
        "outputId": "832fb9d1-6234-4b4e-ef57-91826d385b3c"
      },
      "execution_count": 47,
      "outputs": [
        {
          "output_type": "stream",
          "name": "stdout",
          "text": [
            "02468 13579\n"
          ]
        }
      ]
    },
    {
      "cell_type": "code",
      "source": [],
      "metadata": {
        "id": "A5l_kbdMAn9L"
      },
      "execution_count": null,
      "outputs": []
    }
  ]
}